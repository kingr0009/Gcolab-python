{
  "nbformat": 4,
  "nbformat_minor": 0,
  "metadata": {
    "colab": {
      "provenance": [],
      "authorship_tag": "ABX9TyME6XuA6iEGwQe4kLdtOh4m",
      "include_colab_link": true
    },
    "kernelspec": {
      "name": "python3",
      "display_name": "Python 3"
    },
    "language_info": {
      "name": "python"
    }
  },
  "cells": [
    {
      "cell_type": "markdown",
      "metadata": {
        "id": "view-in-github",
        "colab_type": "text"
      },
      "source": [
        "<a href=\"https://colab.research.google.com/github/kingr0009/Gcolab-python/blob/main/dd_Lists.ipynb\" target=\"_parent\"><img src=\"https://colab.research.google.com/assets/colab-badge.svg\" alt=\"Open In Colab\"/></a>"
      ]
    },
    {
      "cell_type": "code",
      "execution_count": 1,
      "metadata": {
        "colab": {
          "base_uri": "https://localhost:8080/"
        },
        "id": "bKDGEo8UMbAW",
        "outputId": "11921da7-41ad-4edf-d535-126d27496ea8"
      },
      "outputs": [
        {
          "output_type": "stream",
          "name": "stdout",
          "text": [
            "['lesson', 5, 'Is fun', True]\n"
          ]
        }
      ],
      "source": [
        "#lists, they can be altered after they are created, you can add and remove without making a new list\n",
        "my_list = [\"lesson\",5,\"Is fun\", True]\n",
        "print(my_list)"
      ]
    },
    {
      "cell_type": "code",
      "source": [
        "#list function\n",
        "second_list = list(\"life is study\") #create a list from string\n",
        "print(second_list)"
      ],
      "metadata": {
        "colab": {
          "base_uri": "https://localhost:8080/"
        },
        "id": "zTxs7EgKNUZ6",
        "outputId": "63db2bbe-391c-4caa-c9be-ec683c09fe77"
      },
      "execution_count": 3,
      "outputs": [
        {
          "output_type": "stream",
          "name": "stdout",
          "text": [
            "['l', 'i', 'f', 'e', ' ', 'i', 's', ' ', 's', 't', 'u', 'd', 'y']\n"
          ]
        }
      ]
    },
    {
      "cell_type": "code",
      "source": [],
      "metadata": {
        "id": "07bSufxUNmLK"
      },
      "execution_count": null,
      "outputs": []
    },
    {
      "cell_type": "code",
      "source": [
        "empty_list = [] #empty list\n",
        "print(empty_list)"
      ],
      "metadata": {
        "colab": {
          "base_uri": "https://localhost:8080/"
        },
        "id": "LwrK_JSmNr-y",
        "outputId": "9130bbe4-08d9-4d75-8af9-22bca44a5c71"
      },
      "execution_count": 5,
      "outputs": [
        {
          "output_type": "stream",
          "name": "stdout",
          "text": [
            "[]\n"
          ]
        }
      ]
    },
    {
      "cell_type": "code",
      "source": [
        "empty_list.append(\"iam no longer empty\") #add to list\n",
        "print(empty_list)"
      ],
      "metadata": {
        "colab": {
          "base_uri": "https://localhost:8080/"
        },
        "id": "FL5R7V02N0rc",
        "outputId": "621145ac-05f6-4fdc-b2bd-4f52d68a2973"
      },
      "execution_count": 7,
      "outputs": [
        {
          "output_type": "stream",
          "name": "stdout",
          "text": [
            "['iam no longer empty']\n"
          ]
        }
      ]
    },
    {
      "cell_type": "code",
      "source": [
        "#removing data from lists\n",
        "my_list.remove(\"lesson\")\n",
        "print(my_list)"
      ],
      "metadata": {
        "colab": {
          "base_uri": "https://localhost:8080/"
        },
        "id": "eOLjp7ptOAi-",
        "outputId": "04b5f3cb-5985-44e0-d1e3-0275636b70cf"
      },
      "execution_count": 8,
      "outputs": [
        {
          "output_type": "stream",
          "name": "stdout",
          "text": [
            "[5, 'Is fun', True]\n"
          ]
        }
      ]
    },
    {
      "cell_type": "code",
      "source": [
        "my_list2 = [\"lesson\",5,\"Is fun\", 5,5,5,5,True]\n",
        "my_list2.remove(5) #remove first instance of 5\n",
        "print(my_list2)"
      ],
      "metadata": {
        "colab": {
          "base_uri": "https://localhost:8080/"
        },
        "id": "vGtsfOrsOSmU",
        "outputId": "af543b12-3160-42cd-9ca2-2b6fb2e8dfca"
      },
      "execution_count": 12,
      "outputs": [
        {
          "output_type": "stream",
          "name": "stdout",
          "text": [
            "['lesson', 'Is fun', 5, 5, 5, 5, True]\n"
          ]
        }
      ]
    },
    {
      "cell_type": "code",
      "source": [
        "# prompt: using the 12th line show command to remove all the 5 at once\n",
        "\n",
        "my_list2 = [\"lesson\",5,\"Is fun\", 5,5,5,5,True]\n",
        "while 5 in my_list2:                                   #use 'while' loop to remove repeated values\n",
        "  my_list2.remove(5)\n",
        "print(my_list2)\n"
      ],
      "metadata": {
        "colab": {
          "base_uri": "https://localhost:8080/"
        },
        "id": "yyEZSxt3OgJQ",
        "outputId": "97fac6bd-db94-4f29-f016-d57ec003d1de"
      },
      "execution_count": 13,
      "outputs": [
        {
          "output_type": "stream",
          "name": "stdout",
          "text": [
            "['lesson', 'Is fun', True]\n"
          ]
        }
      ]
    },
    {
      "cell_type": "code",
      "source": [
        "#add 2 lists\n",
        "combined_list = my_list + empty_list\n",
        "print(combined_list)"
      ],
      "metadata": {
        "colab": {
          "base_uri": "https://localhost:8080/"
        },
        "id": "r3jHA_M9PRpC",
        "outputId": "d048c1af-5474-46de-9efc-4d049902ce45"
      },
      "execution_count": 16,
      "outputs": [
        {
          "output_type": "stream",
          "name": "stdout",
          "text": [
            "[5, 'Is fun', True, 'iam no longer empty']\n"
          ]
        }
      ]
    },
    {
      "cell_type": "code",
      "source": [
        "#add a sequence to a existig list\n",
        "combined_list.extend(empty_list)\n",
        "print(combined_list)"
      ],
      "metadata": {
        "colab": {
          "base_uri": "https://localhost:8080/"
        },
        "id": "hVstLrvVPUpW",
        "outputId": "cd55288e-003a-4be3-94ee-7a1cc17c3794"
      },
      "execution_count": 20,
      "outputs": [
        {
          "output_type": "stream",
          "name": "stdout",
          "text": [
            "[5, 'Is fun', True, 'iam no longer empty', ['iam no longer empty'], 'iam no longer empty', 'iam no longer empty', 'iam no longer empty']\n"
          ]
        }
      ]
    },
    {
      "cell_type": "code",
      "source": [
        "#check min max lenght of list\n",
        "num_list = [1,2,3,4,5,6,7,8,9]\n",
        "print(min(num_list))\n",
        "print(max(num_list))\n",
        "print(len(num_list))\n",
        "print(sum(num_list))\n",
        "print(sum(num_list)/len(num_list))"
      ],
      "metadata": {
        "colab": {
          "base_uri": "https://localhost:8080/"
        },
        "id": "MKNWt-KA6MYb",
        "outputId": "439961d9-bc92-4c36-a57c-3e0082afe0ff"
      },
      "execution_count": 22,
      "outputs": [
        {
          "output_type": "stream",
          "name": "stdout",
          "text": [
            "1\n",
            "9\n",
            "9\n",
            "45\n",
            "5.0\n"
          ]
        }
      ]
    },
    {
      "cell_type": "code",
      "source": [
        "#verifies list\n",
        "1 in num_list"
      ],
      "metadata": {
        "colab": {
          "base_uri": "https://localhost:8080/"
        },
        "id": "S1Dv8ivN6oG2",
        "outputId": "6941c465-61d0-4299-d51d-d9fd80041aed"
      },
      "execution_count": 23,
      "outputs": [
        {
          "output_type": "execute_result",
          "data": {
            "text/plain": [
              "True"
            ]
          },
          "metadata": {},
          "execution_count": 23
        }
      ]
    },
    {
      "cell_type": "code",
      "source": [
        "1 not in num_list"
      ],
      "metadata": {
        "colab": {
          "base_uri": "https://localhost:8080/"
        },
        "id": "Gx7BUT7P6_KD",
        "outputId": "849f48d3-d946-4989-e07a-85581297030e"
      },
      "execution_count": 25,
      "outputs": [
        {
          "output_type": "execute_result",
          "data": {
            "text/plain": [
              "False"
            ]
          },
          "metadata": {},
          "execution_count": 25
        }
      ]
    },
    {
      "cell_type": "code",
      "source": [
        "#sort , reverse\n",
        "num_2 = [1,2,4,5,3,9,8,7,6,7,8,9,10,11,12,13,14,15,16,17,18,19,20,21,22,23,24]    #sorts in ascending order\n",
        "num_2.sort()\n",
        "print(\"sorted\",num_2)\n",
        "num_2.reverse()\n",
        "print(\"reversed\",num_2)"
      ],
      "metadata": {
        "colab": {
          "base_uri": "https://localhost:8080/"
        },
        "id": "W5gM2aPM7BsL",
        "outputId": "4de65b19-9d88-4134-ad8a-d43a67846cf8"
      },
      "execution_count": 39,
      "outputs": [
        {
          "output_type": "stream",
          "name": "stdout",
          "text": [
            "sorted [1, 2, 3, 4, 5, 6, 7, 7, 8, 8, 9, 9, 10, 11, 12, 13, 14, 15, 16, 17, 18, 19, 20, 21, 22, 23, 24]\n",
            "reversed [24, 23, 22, 21, 20, 19, 18, 17, 16, 15, 14, 13, 12, 11, 10, 9, 9, 8, 8, 7, 7, 6, 5, 4, 3, 2, 1]\n"
          ]
        }
      ]
    },
    {
      "cell_type": "code",
      "source": [
        "another_list = [\"hello\", \"my\", \"bestest\", \"old\", \"friend\"]\n",
        "print(another_list[0])\n",
        "print(another_list[1])    #counting starts at 0\n",
        "print(another_list[2])     #pulls out a specific value\n",
        "print(another_list[3])\n",
        "print(another_list[4])"
      ],
      "metadata": {
        "colab": {
          "base_uri": "https://localhost:8080/"
        },
        "id": "FjdP-ilR7xaM",
        "outputId": "c23fee4c-b345-4ebc-9b99-a53517427a89"
      },
      "execution_count": 41,
      "outputs": [
        {
          "output_type": "stream",
          "name": "stdout",
          "text": [
            "hello\n",
            "my\n",
            "bestest\n",
            "old\n",
            "friend\n"
          ]
        }
      ]
    },
    {
      "cell_type": "code",
      "source": [
        "print(another_list[-1]) #counts in reverse order to pull out a value, starting from the end\n",
        "print(another_list[-2])"
      ],
      "metadata": {
        "colab": {
          "base_uri": "https://localhost:8080/"
        },
        "id": "KNbCJFRN9A_F",
        "outputId": "bb67f316-95c7-4bbf-efa1-20899c00c7ac"
      },
      "execution_count": 42,
      "outputs": [
        {
          "output_type": "stream",
          "name": "stdout",
          "text": [
            "friend\n",
            "old\n"
          ]
        }
      ]
    },
    {
      "cell_type": "code",
      "source": [
        "#contained with nested list\n",
        "nested_list = [[1,2,3],[4,5,6],[7,8,9]]\n",
        "print(nested_list[0],[2])"
      ],
      "metadata": {
        "colab": {
          "base_uri": "https://localhost:8080/"
        },
        "id": "KZMt0mOz9Xq5",
        "outputId": "f0715116-ba0d-4508-ecec-fa37c1b0fa95"
      },
      "execution_count": 43,
      "outputs": [
        {
          "output_type": "stream",
          "name": "stdout",
          "text": [
            "[1, 2, 3] [2]\n"
          ]
        }
      ]
    },
    {
      "cell_type": "code",
      "source": [
        "#slicing\n",
        "#instead of pulling a specific value, you can pull a range of values\n",
        "my_slice = another_list[1:3]      #not inclusive of the final index, slices 1,2 (upto3)\n",
        "print(my_slice)"
      ],
      "metadata": {
        "colab": {
          "base_uri": "https://localhost:8080/"
        },
        "id": "A0VE31vS-KPy",
        "outputId": "a399b089-7be3-4e66-b0c6-b2a24d241d2c"
      },
      "execution_count": 44,
      "outputs": [
        {
          "output_type": "stream",
          "name": "stdout",
          "text": [
            "['my', 'bestest']\n"
          ]
        }
      ]
    },
    {
      "cell_type": "code",
      "source": [
        "#slice up the entire list but use step size 2 to get every other item\n",
        "num_3 = [1,2,4,5,3,9,8,7,6,7,8,9,10,11,12,13,14,15,16,17,18,19,20,21,22,23,24]\n",
        "my_slice3 = num_3[0:24:2] #sequence[start:stop:step]\n",
        "\n",
        "print(my_slice3)"
      ],
      "metadata": {
        "colab": {
          "base_uri": "https://localhost:8080/"
        },
        "id": "4EZHqwYA-3C-",
        "outputId": "7c4994c7-dfd9-4594-fe71-73ddaa55f3a4"
      },
      "execution_count": 55,
      "outputs": [
        {
          "output_type": "stream",
          "name": "stdout",
          "text": [
            "[1, 4, 3, 8, 6, 8, 10, 12, 14, 16, 18, 20]\n"
          ]
        }
      ]
    },
    {
      "cell_type": "code",
      "source": [
        "#slice everything upto\n",
        "num_4 = [1,2,4,5,3,9,8,7,6,7,8,9,10,11,12,13,14,15,16,17,18,19,20,21,22,23,24]\n",
        "my_slice4 = num_4[:24]\n",
        "print(my_slice4)\n",
        "my_slice4 = num_4[:]    #if you mention nothing, it will call the whole list\n",
        "print(my_slice4)"
      ],
      "metadata": {
        "colab": {
          "base_uri": "https://localhost:8080/"
        },
        "id": "G13g-fVW_Tgj",
        "outputId": "cda39671-f869-4770-f47b-73b27eeeef49"
      },
      "execution_count": 63,
      "outputs": [
        {
          "output_type": "stream",
          "name": "stdout",
          "text": [
            "[1, 2, 4, 5, 3, 9, 8, 7, 6, 7, 8, 9, 10, 11, 12, 13, 14, 15, 16, 17, 18, 19, 20, 21]\n",
            "[1, 2, 4, 5, 3, 9, 8, 7, 6, 7, 8, 9, 10, 11, 12, 13, 14, 15, 16, 17, 18, 19, 20, 21, 22, 23, 24]\n"
          ]
        }
      ]
    },
    {
      "cell_type": "code",
      "source": [
        "#differnce between, xyz.remove(), del(xyz[n]), where 'n' is the nth element\n",
        "\n",
        "\n",
        "fruits = ['apple', 'banana', 'cherry', 'apple']\n",
        "\n",
        "# Remove the first occurrence of 'apple'\n",
        "fruits.remove('apple')\n",
        "print(fruits)  # Output: ['banana', 'cherry', 'apple']\n",
        "\n",
        "\n",
        "numbers = [10, 20, 30, 40, 50]\n",
        "\n",
        "# Delete elements from index 1 to 3 (2nd to 4th elements)\n",
        "del numbers[1:4]\n",
        "print(numbers)  # Output: [10, 50]\n"
      ],
      "metadata": {
        "colab": {
          "base_uri": "https://localhost:8080/"
        },
        "id": "KIl2Xa_nBvGl",
        "outputId": "464dd7ae-616a-412f-db83-683834ed8358"
      },
      "execution_count": 67,
      "outputs": [
        {
          "output_type": "stream",
          "name": "stdout",
          "text": [
            "['banana', 'cherry', 'apple']\n",
            "[10, 50]\n"
          ]
        }
      ]
    },
    {
      "cell_type": "code",
      "source": [
        "#delete a value from the list\n",
        "num_5 = [1,2,4,5,3,9,8,7,6,7,8,9,10,11,12,13,14,15,16,17,18,19,20,21,22,23,24]\n",
        "print(num_5)\n",
        "del(num_5[1:5]) #upto 5\n",
        "print(num_5)\n",
        "\n",
        "\n"
      ],
      "metadata": {
        "colab": {
          "base_uri": "https://localhost:8080/"
        },
        "id": "z0BO3n5cDtny",
        "outputId": "fe2c492c-0de3-49b0-8c99-11cbd9777823"
      },
      "execution_count": 69,
      "outputs": [
        {
          "output_type": "stream",
          "name": "stdout",
          "text": [
            "[1, 2, 4, 5, 3, 9, 8, 7, 6, 7, 8, 9, 10, 11, 12, 13, 14, 15, 16, 17, 18, 19, 20, 21, 22, 23, 24]\n",
            "[1, 9, 8, 7, 6, 7, 8, 9, 10, 11, 12, 13, 14, 15, 16, 17, 18, 19, 20, 21, 22, 23, 24]\n"
          ]
        }
      ]
    },
    {
      "cell_type": "code",
      "source": [
        "#.pop will remove the last value and prints\n",
        "num_5 = [1,2,4,5,3,9,8,7,6,7,8,9,10,11,12,13,14,15,16,17,18,19,20,21,22,23,24]\n",
        "popp= num_5.pop()\n",
        "print(popp)\n"
      ],
      "metadata": {
        "colab": {
          "base_uri": "https://localhost:8080/"
        },
        "id": "Qjo1xS56EiWe",
        "outputId": "452fbba4-4e2a-41c0-fcf6-339fa07b55cc"
      },
      "execution_count": 76,
      "outputs": [
        {
          "output_type": "stream",
          "name": "stdout",
          "text": [
            "24\n"
          ]
        }
      ]
    },
    {
      "cell_type": "code",
      "source": [
        "#copying lists\n",
        "#make a list\n",
        "\n",
        "\n",
        "\n",
        "list1 = [1,2,3,4,5]\n",
        "list2 = list1.copy()   #copy the list #very important\n",
        "list1.append(6)        #add an item to list1\n",
        "\n",
        "print(\"list1\", list1)    #print both lists\n",
        "print(\"list2\", list2)"
      ],
      "metadata": {
        "colab": {
          "base_uri": "https://localhost:8080/"
        },
        "id": "jQEr5aZTGCZl",
        "outputId": "ca5e3f3f-bbfe-4624-8559-ea9689dbff00"
      },
      "execution_count": 78,
      "outputs": [
        {
          "output_type": "stream",
          "name": "stdout",
          "text": [
            "list1 [1, 2, 3, 4, 5, 6]\n",
            "list2 [1, 2, 3, 4, 5]\n"
          ]
        }
      ]
    },
    {
      "cell_type": "code",
      "source": [
        "#experiment,                                            #relearn relook again\n",
        "import copy\n",
        "\n",
        "list1 = [1,2,3]\n",
        "list2 = [\"list within a list\", list1]\n",
        "list3 = copy.deepcopy(list2)\n",
        "\n",
        "print(\"before appending to list1\")\n",
        "print(\"list2\",list2)\n",
        "print(\"list3\",list3)\n",
        "\n",
        "list1.append(4)\n",
        "\n",
        "print(\"after appending to list1\")\n",
        "print(\"list2\",list2)\n",
        "print(\"list3\",list3)\n"
      ],
      "metadata": {
        "colab": {
          "base_uri": "https://localhost:8080/"
        },
        "id": "3_3jDtYMHsgv",
        "outputId": "0eb1e08b-ee56-4fd1-a446-6489064086e1"
      },
      "execution_count": 80,
      "outputs": [
        {
          "output_type": "stream",
          "name": "stdout",
          "text": [
            "before appending to list1\n",
            "list2 ['list within a list', [1, 2, 3]]\n",
            "list3 ['list within a list', [1, 2, 3]]\n",
            "after appending to list1\n",
            "list2 ['list within a list', [1, 2, 3, 4]]\n",
            "list3 ['list within a list', [1, 2, 3]]\n"
          ]
        }
      ]
    },
    {
      "cell_type": "code",
      "source": [
        "#wrap up"
      ],
      "metadata": {
        "id": "wzonJjguMqg8"
      },
      "execution_count": null,
      "outputs": []
    }
  ]
}