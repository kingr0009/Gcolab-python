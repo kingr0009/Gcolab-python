{
  "nbformat": 4,
  "nbformat_minor": 0,
  "metadata": {
    "colab": {
      "provenance": [],
      "authorship_tag": "ABX9TyMIkVXoBe3KkGlcynrVHR26",
      "include_colab_link": true
    },
    "kernelspec": {
      "name": "python3",
      "display_name": "Python 3"
    },
    "language_info": {
      "name": "python"
    }
  },
  "cells": [
    {
      "cell_type": "markdown",
      "metadata": {
        "id": "view-in-github",
        "colab_type": "text"
      },
      "source": [
        "<a href=\"https://colab.research.google.com/github/kingr0009/Gcolab-python/blob/main/dd_Numpy.ipynb\" target=\"_parent\"><img src=\"https://colab.research.google.com/assets/colab-badge.svg\" alt=\"Open In Colab\"/></a>"
      ]
    },
    {
      "cell_type": "code",
      "execution_count": 2,
      "metadata": {
        "colab": {
          "base_uri": "https://localhost:8080/"
        },
        "id": "PZVXaZDHzmbw",
        "outputId": "ea0e84d1-4e2c-411d-ba6f-897776236016"
      },
      "outputs": [
        {
          "output_type": "execute_result",
          "data": {
            "text/plain": [
              "numpy.ndarray"
            ]
          },
          "metadata": {},
          "execution_count": 2
        }
      ],
      "source": [
        "#Numpy Arrays\n",
        "import numpy as np\n",
        "my_list = [1,2,3,4]\n",
        "my_array = np.array(my_list)\n",
        "type(my_array)"
      ]
    },
    {
      "cell_type": "code",
      "source": [
        "second_list =[5,6,7,8]\n",
        "two_d_array =np.array([my_list,second_list])\n",
        "print(two_d_array)"
      ],
      "metadata": {
        "colab": {
          "base_uri": "https://localhost:8080/"
        },
        "id": "w0MjuJQn0vrr",
        "outputId": "816bdd4a-46a4-4e94-f079-d816df8bbd00"
      },
      "execution_count": 3,
      "outputs": [
        {
          "output_type": "stream",
          "name": "stdout",
          "text": [
            "[[1 2 3 4]\n",
            " [5 6 7 8]]\n"
          ]
        }
      ]
    },
    {
      "cell_type": "code",
      "source": [
        "two_d_array.shape #checks matrix dimension"
      ],
      "metadata": {
        "colab": {
          "base_uri": "https://localhost:8080/"
        },
        "id": "56rHFL3qL5mI",
        "outputId": "bfaf9324-c1e9-4561-d2ca-6ee2483943ad"
      },
      "execution_count": 5,
      "outputs": [
        {
          "output_type": "execute_result",
          "data": {
            "text/plain": [
              "(2, 4)"
            ]
          },
          "metadata": {},
          "execution_count": 5
        }
      ]
    },
    {
      "cell_type": "code",
      "source": [
        "two_d_array.size"
      ],
      "metadata": {
        "colab": {
          "base_uri": "https://localhost:8080/"
        },
        "id": "V-_k0355Mllz",
        "outputId": "f224cf06-1bf1-4e08-9c64-db387c492899"
      },
      "execution_count": 6,
      "outputs": [
        {
          "output_type": "execute_result",
          "data": {
            "text/plain": [
              "8"
            ]
          },
          "metadata": {},
          "execution_count": 6
        }
      ]
    },
    {
      "cell_type": "code",
      "source": [
        "two_d_array.dtype"
      ],
      "metadata": {
        "colab": {
          "base_uri": "https://localhost:8080/"
        },
        "id": "QrzZM7ClMsts",
        "outputId": "e6aea34b-1e8e-4d5e-9114-2b43f39056e6"
      },
      "execution_count": 7,
      "outputs": [
        {
          "output_type": "execute_result",
          "data": {
            "text/plain": [
              "dtype('int64')"
            ]
          },
          "metadata": {},
          "execution_count": 7
        }
      ]
    },
    {
      "cell_type": "code",
      "source": [
        "np.identity(n=5) #creates a square 2d array with '1's across diagonal"
      ],
      "metadata": {
        "colab": {
          "base_uri": "https://localhost:8080/"
        },
        "id": "1uuEgtSENAOz",
        "outputId": "d6a4443d-0673-49a1-973b-bb95566a34f7"
      },
      "execution_count": 9,
      "outputs": [
        {
          "output_type": "execute_result",
          "data": {
            "text/plain": [
              "array([[1., 0., 0., 0., 0.],\n",
              "       [0., 1., 0., 0., 0.],\n",
              "       [0., 0., 1., 0., 0.],\n",
              "       [0., 0., 0., 1., 0.],\n",
              "       [0., 0., 0., 0., 1.]])"
            ]
          },
          "metadata": {},
          "execution_count": 9
        }
      ]
    },
    {
      "cell_type": "code",
      "source": [
        "np.ones(shape=(2,4))"
      ],
      "metadata": {
        "colab": {
          "base_uri": "https://localhost:8080/"
        },
        "id": "GJdVMRopNIqQ",
        "outputId": "a09f2e65-e277-40be-f208-eaae5e49b2a6"
      },
      "execution_count": 11,
      "outputs": [
        {
          "output_type": "execute_result",
          "data": {
            "text/plain": [
              "array([[1., 1., 1., 1.],\n",
              "       [1., 1., 1., 1.]])"
            ]
          },
          "metadata": {},
          "execution_count": 11
        }
      ]
    },
    {
      "cell_type": "code",
      "source": [
        "np.zeros(shape=(2,4))"
      ],
      "metadata": {
        "colab": {
          "base_uri": "https://localhost:8080/"
        },
        "id": "mxgLkw1zNmue",
        "outputId": "9981920f-d9e9-4c27-90e2-f2ca9d219484"
      },
      "execution_count": 12,
      "outputs": [
        {
          "output_type": "execute_result",
          "data": {
            "text/plain": [
              "array([[0., 0., 0., 0.],\n",
              "       [0., 0., 0., 0.]])"
            ]
          },
          "metadata": {},
          "execution_count": 12
        }
      ]
    },
    {
      "cell_type": "code",
      "source": [
        "#indexing and slicing\n",
        "one_d_array = np.array([1,2,3,4,5,6,7])\n",
        "one_d_array[4]"
      ],
      "metadata": {
        "colab": {
          "base_uri": "https://localhost:8080/"
        },
        "id": "gzl-vLrYNw2L",
        "outputId": "2c6effc8-ec4c-44e8-b161-0841c041e9d6"
      },
      "execution_count": 13,
      "outputs": [
        {
          "output_type": "execute_result",
          "data": {
            "text/plain": [
              "5"
            ]
          },
          "metadata": {},
          "execution_count": 13
        }
      ]
    },
    {
      "cell_type": "code",
      "source": [
        "#same operations as before on lists\n",
        "one_d_array[::-1]"
      ],
      "metadata": {
        "colab": {
          "base_uri": "https://localhost:8080/"
        },
        "id": "jemPlu5RODan",
        "outputId": "46cf799a-bad6-4777-91e2-acd28de45473"
      },
      "execution_count": 14,
      "outputs": [
        {
          "output_type": "execute_result",
          "data": {
            "text/plain": [
              "array([7, 6, 5, 4, 3, 2, 1])"
            ]
          },
          "metadata": {},
          "execution_count": 14
        }
      ]
    },
    {
      "cell_type": "code",
      "source": [
        "#create a new 2d array\n",
        "two_d_array = np.array([one_d_array, one_d_array +6 , one_d_array +12])\n",
        "print(two_d_array)"
      ],
      "metadata": {
        "colab": {
          "base_uri": "https://localhost:8080/"
        },
        "id": "vq6AFHydOTBp",
        "outputId": "ec14e609-bf1b-4302-9a5a-40d51979bfd0"
      },
      "execution_count": 15,
      "outputs": [
        {
          "output_type": "stream",
          "name": "stdout",
          "text": [
            "[[ 1  2  3  4  5  6  7]\n",
            " [ 7  8  9 10 11 12 13]\n",
            " [13 14 15 16 17 18 19]]\n"
          ]
        }
      ]
    },
    {
      "cell_type": "code",
      "source": [
        "#get elemenet at row 1, column index 4\n",
        "two_d_array[1,4] #starts from row 0"
      ],
      "metadata": {
        "colab": {
          "base_uri": "https://localhost:8080/"
        },
        "id": "825yclbuOs5B",
        "outputId": "76fc1bc5-3c79-4117-ab1e-aa109b7dcb45"
      },
      "execution_count": 16,
      "outputs": [
        {
          "output_type": "execute_result",
          "data": {
            "text/plain": [
              "11"
            ]
          },
          "metadata": {},
          "execution_count": 16
        }
      ]
    },
    {
      "cell_type": "code",
      "source": [
        "np.reshape(a=two_d_array, newshape=(7,3)) #reshaping our matrix"
      ],
      "metadata": {
        "colab": {
          "base_uri": "https://localhost:8080/"
        },
        "id": "PVYZvcWoPDCL",
        "outputId": "d4089bb0-93dc-429d-9dd9-87033bd9278a"
      },
      "execution_count": 21,
      "outputs": [
        {
          "output_type": "execute_result",
          "data": {
            "text/plain": [
              "array([[ 1,  2,  3],\n",
              "       [ 4,  5,  6],\n",
              "       [ 7,  7,  8],\n",
              "       [ 9, 10, 11],\n",
              "       [12, 13, 13],\n",
              "       [14, 15, 16],\n",
              "       [17, 18, 19]])"
            ]
          },
          "metadata": {},
          "execution_count": 21
        }
      ]
    },
    {
      "cell_type": "code",
      "source": [
        "#sorts in order                        #c is correct order, #f is fortran style order\n",
        "np.ravel(a=two_d_array, order='c')"
      ],
      "metadata": {
        "colab": {
          "base_uri": "https://localhost:8080/"
        },
        "id": "pW4mFEHjPpR2",
        "outputId": "93a91fb9-0b4a-4fb6-9ea4-6f6310f94205"
      },
      "execution_count": 24,
      "outputs": [
        {
          "output_type": "execute_result",
          "data": {
            "text/plain": [
              "array([ 1,  2,  3,  4,  5,  6,  7,  7,  8,  9, 10, 11, 12, 13, 13, 14, 15,\n",
              "       16, 17, 18, 19])"
            ]
          },
          "metadata": {},
          "execution_count": 24
        }
      ]
    },
    {
      "cell_type": "code",
      "source": [
        "# another similar function\n",
        "two_d_array.flatten()"
      ],
      "metadata": {
        "colab": {
          "base_uri": "https://localhost:8080/"
        },
        "id": "W654z2sTQgeV",
        "outputId": "2411d399-d64a-4635-b5aa-cbce99921aed"
      },
      "execution_count": 26,
      "outputs": [
        {
          "output_type": "execute_result",
          "data": {
            "text/plain": [
              "array([ 1,  2,  3,  4,  5,  6,  7,  7,  8,  9, 10, 11, 12, 13, 13, 14, 15,\n",
              "       16, 17, 18, 19])"
            ]
          },
          "metadata": {},
          "execution_count": 26
        }
      ]
    },
    {
      "cell_type": "code",
      "source": [
        "#flip array\n",
        "\n",
        "q=np.flip(two_d_array)\n",
        "w=np.fliplr(two_d_array)\n",
        "e=np.flipud(two_d_array)\n",
        "print(q)\n",
        "\n",
        "print(w)\n",
        "\n",
        "print(e)"
      ],
      "metadata": {
        "colab": {
          "base_uri": "https://localhost:8080/"
        },
        "id": "rUl8k_BEQ7Sk",
        "outputId": "2c5f8eb4-5e6a-4707-eaea-279484e039ab"
      },
      "execution_count": 30,
      "outputs": [
        {
          "output_type": "stream",
          "name": "stdout",
          "text": [
            "[[19 18 17 16 15 14 13]\n",
            " [13 12 11 10  9  8  7]\n",
            " [ 7  6  5  4  3  2  1]]\n",
            "[[ 7  6  5  4  3  2  1]\n",
            " [13 12 11 10  9  8  7]\n",
            " [19 18 17 16 15 14 13]]\n",
            "[[13 14 15 16 17 18 19]\n",
            " [ 7  8  9 10 11 12 13]\n",
            " [ 1  2  3  4  5  6  7]]\n"
          ]
        }
      ]
    },
    {
      "cell_type": "code",
      "source": [
        "np.rot90(two_d_array, k=1) #rotate matrix"
      ],
      "metadata": {
        "colab": {
          "base_uri": "https://localhost:8080/"
        },
        "id": "UfnSld0qRdMm",
        "outputId": "7f511cf9-3c7a-4438-e547-31941ce5a468"
      },
      "execution_count": 36,
      "outputs": [
        {
          "output_type": "execute_result",
          "data": {
            "text/plain": [
              "array([[ 7, 13, 19],\n",
              "       [ 6, 12, 18],\n",
              "       [ 5, 11, 17],\n",
              "       [ 4, 10, 16],\n",
              "       [ 3,  9, 15],\n",
              "       [ 2,  8, 14],\n",
              "       [ 1,  7, 13]])"
            ]
          },
          "metadata": {},
          "execution_count": 36
        }
      ]
    },
    {
      "cell_type": "code",
      "source": [
        "#shift elements in array\n",
        "np.roll(two_d_array, shift=1, axis=0)"
      ],
      "metadata": {
        "colab": {
          "base_uri": "https://localhost:8080/"
        },
        "id": "yUGw-bagSl0v",
        "outputId": "f9ec3d4a-37e5-4a8d-f37b-0b2c6ce044d5"
      },
      "execution_count": 37,
      "outputs": [
        {
          "output_type": "execute_result",
          "data": {
            "text/plain": [
              "array([[13, 14, 15, 16, 17, 18, 19],\n",
              "       [ 1,  2,  3,  4,  5,  6,  7],\n",
              "       [ 7,  8,  9, 10, 11, 12, 13]])"
            ]
          },
          "metadata": {},
          "execution_count": 37
        }
      ]
    },
    {
      "cell_type": "code",
      "source": [
        "array_to_join = np.array([[10,11,12,13,14,15,16]])\n",
        "np.concatenate((two_d_array, array_to_join), axis=0)"
      ],
      "metadata": {
        "colab": {
          "base_uri": "https://localhost:8080/"
        },
        "id": "HQ9Nvfu1Uhno",
        "outputId": "40185bcc-cbf3-4f32-d837-10424ad05ae3"
      },
      "execution_count": 40,
      "outputs": [
        {
          "output_type": "execute_result",
          "data": {
            "text/plain": [
              "array([[ 1,  2,  3,  4,  5,  6,  7],\n",
              "       [ 7,  8,  9, 10, 11, 12, 13],\n",
              "       [13, 14, 15, 16, 17, 18, 19],\n",
              "       [10, 11, 12, 13, 14, 15, 16]])"
            ]
          },
          "metadata": {},
          "execution_count": 40
        }
      ]
    },
    {
      "cell_type": "code",
      "source": [
        "#array math ops\n",
        "two_d_array + two_d_array"
      ],
      "metadata": {
        "colab": {
          "base_uri": "https://localhost:8080/"
        },
        "id": "-AExxfctU3GD",
        "outputId": "cbeff213-1989-4b68-eac3-a5306881315f"
      },
      "execution_count": 41,
      "outputs": [
        {
          "output_type": "execute_result",
          "data": {
            "text/plain": [
              "array([[ 2,  4,  6,  8, 10, 12, 14],\n",
              "       [14, 16, 18, 20, 22, 24, 26],\n",
              "       [26, 28, 30, 32, 34, 36, 38]])"
            ]
          },
          "metadata": {},
          "execution_count": 41
        }
      ]
    },
    {
      "cell_type": "code",
      "source": [
        "two_d_array * two_d_array"
      ],
      "metadata": {
        "colab": {
          "base_uri": "https://localhost:8080/"
        },
        "id": "-JB9BsgKVdmf",
        "outputId": "0b5da4a5-1469-4e4c-eb23-86c7910a7f83"
      },
      "execution_count": 42,
      "outputs": [
        {
          "output_type": "execute_result",
          "data": {
            "text/plain": [
              "array([[  1,   4,   9,  16,  25,  36,  49],\n",
              "       [ 49,  64,  81, 100, 121, 144, 169],\n",
              "       [169, 196, 225, 256, 289, 324, 361]])"
            ]
          },
          "metadata": {},
          "execution_count": 42
        }
      ]
    },
    {
      "cell_type": "code",
      "source": [
        "two_d_array - two_d_array"
      ],
      "metadata": {
        "colab": {
          "base_uri": "https://localhost:8080/"
        },
        "id": "gR17ujUJVhpt",
        "outputId": "1a167e07-c066-411e-f4fd-e3a98aa89b23"
      },
      "execution_count": 43,
      "outputs": [
        {
          "output_type": "execute_result",
          "data": {
            "text/plain": [
              "array([[0, 0, 0, 0, 0, 0, 0],\n",
              "       [0, 0, 0, 0, 0, 0, 0],\n",
              "       [0, 0, 0, 0, 0, 0, 0]])"
            ]
          },
          "metadata": {},
          "execution_count": 43
        }
      ]
    },
    {
      "cell_type": "code",
      "source": [
        "two_d_array -100"
      ],
      "metadata": {
        "colab": {
          "base_uri": "https://localhost:8080/"
        },
        "id": "mzXqHoohVjg1",
        "outputId": "e662575f-db08-4d42-af3f-9bb15ef13d05"
      },
      "execution_count": 44,
      "outputs": [
        {
          "output_type": "execute_result",
          "data": {
            "text/plain": [
              "array([[-99, -98, -97, -96, -95, -94, -93],\n",
              "       [-93, -92, -91, -90, -89, -88, -87],\n",
              "       [-87, -86, -85, -84, -83, -82, -81]])"
            ]
          },
          "metadata": {},
          "execution_count": 44
        }
      ]
    },
    {
      "cell_type": "code",
      "source": [
        "np.mean(two_d_array, axis=1)\n"
      ],
      "metadata": {
        "colab": {
          "base_uri": "https://localhost:8080/"
        },
        "id": "_3_pTQaiVnLC",
        "outputId": "59d4cf9b-4449-45e5-df9b-8310556e1981"
      },
      "execution_count": 46,
      "outputs": [
        {
          "output_type": "execute_result",
          "data": {
            "text/plain": [
              "array([ 4., 10., 16.])"
            ]
          },
          "metadata": {},
          "execution_count": 46
        }
      ]
    },
    {
      "cell_type": "code",
      "source": [
        "g=np.std(two_d_array, axis=1)\n",
        "h=np.std(two_d_array)\n",
        "print(g)\n",
        "print(h)"
      ],
      "metadata": {
        "colab": {
          "base_uri": "https://localhost:8080/"
        },
        "id": "dxsns173V2Ey",
        "outputId": "0100914e-b7be-4151-de10-eb79f946f14b"
      },
      "execution_count": 49,
      "outputs": [
        {
          "output_type": "stream",
          "name": "stdout",
          "text": [
            "[2. 2. 2.]\n",
            "5.291502622129181\n"
          ]
        }
      ]
    },
    {
      "cell_type": "code",
      "source": [
        "#axis = 1 ------- ROWS\n",
        "#axis = 0 ------- Columns"
      ],
      "metadata": {
        "id": "Z8uPOPrUWHD3"
      },
      "execution_count": 50,
      "outputs": []
    },
    {
      "cell_type": "code",
      "source": [
        "np.sum(two_d_array, axis=0)"
      ],
      "metadata": {
        "colab": {
          "base_uri": "https://localhost:8080/"
        },
        "id": "sUbRebDiW4Au",
        "outputId": "23a4a8de-b50f-4ed5-a6a7-6ee08c6e66f9"
      },
      "execution_count": 51,
      "outputs": [
        {
          "output_type": "execute_result",
          "data": {
            "text/plain": [
              "array([21, 24, 27, 30, 33, 36, 39])"
            ]
          },
          "metadata": {},
          "execution_count": 51
        }
      ]
    },
    {
      "cell_type": "code",
      "source": [
        "np.log10(two_d_array)"
      ],
      "metadata": {
        "colab": {
          "base_uri": "https://localhost:8080/"
        },
        "id": "UGiBJaHVW8mu",
        "outputId": "cfea0867-65e0-44b1-9475-e2c0240bc217"
      },
      "execution_count": 52,
      "outputs": [
        {
          "output_type": "execute_result",
          "data": {
            "text/plain": [
              "array([[0.        , 0.30103   , 0.47712125, 0.60205999, 0.69897   ,\n",
              "        0.77815125, 0.84509804],\n",
              "       [0.84509804, 0.90308999, 0.95424251, 1.        , 1.04139269,\n",
              "        1.07918125, 1.11394335],\n",
              "       [1.11394335, 1.14612804, 1.17609126, 1.20411998, 1.23044892,\n",
              "        1.25527251, 1.2787536 ]])"
            ]
          },
          "metadata": {},
          "execution_count": 52
        }
      ]
    },
    {
      "cell_type": "code",
      "source": [
        "np.sqrt(two_d_array)\n",
        "#"
      ],
      "metadata": {
        "colab": {
          "base_uri": "https://localhost:8080/"
        },
        "id": "4GHqthjLXEGq",
        "outputId": "d5489263-9cc1-48d7-b78c-82406156914c"
      },
      "execution_count": 53,
      "outputs": [
        {
          "output_type": "execute_result",
          "data": {
            "text/plain": [
              "array([[1.        , 1.41421356, 1.73205081, 2.        , 2.23606798,\n",
              "        2.44948974, 2.64575131],\n",
              "       [2.64575131, 2.82842712, 3.        , 3.16227766, 3.31662479,\n",
              "        3.46410162, 3.60555128],\n",
              "       [3.60555128, 3.74165739, 3.87298335, 4.        , 4.12310563,\n",
              "        4.24264069, 4.35889894]])"
            ]
          },
          "metadata": {},
          "execution_count": 53
        }
      ]
    },
    {
      "cell_type": "code",
      "source": [
        "np.dot(two_d_array, two_d_array.T) #multiply with its ranspose"
      ],
      "metadata": {
        "colab": {
          "base_uri": "https://localhost:8080/"
        },
        "id": "dIvHO0R4XF3C",
        "outputId": "ff498f28-1fac-44c7-9416-430604f59030"
      },
      "execution_count": 54,
      "outputs": [
        {
          "output_type": "execute_result",
          "data": {
            "text/plain": [
              "array([[ 140,  308,  476],\n",
              "       [ 308,  728, 1148],\n",
              "       [ 476, 1148, 1820]])"
            ]
          },
          "metadata": {},
          "execution_count": 54
        }
      ]
    },
    {
      "cell_type": "code",
      "source": [],
      "metadata": {
        "id": "DFt7h8wZXMjE"
      },
      "execution_count": null,
      "outputs": []
    }
  ]
}