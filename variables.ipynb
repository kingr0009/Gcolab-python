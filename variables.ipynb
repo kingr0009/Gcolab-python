{
  "nbformat": 4,
  "nbformat_minor": 0,
  "metadata": {
    "colab": {
      "provenance": [],
      "authorship_tag": "ABX9TyNriVCTR+5VpOxcB3Wp3VNg",
      "include_colab_link": true
    },
    "kernelspec": {
      "name": "python3",
      "display_name": "Python 3"
    },
    "language_info": {
      "name": "python"
    }
  },
  "cells": [
    {
      "cell_type": "markdown",
      "metadata": {
        "id": "view-in-github",
        "colab_type": "text"
      },
      "source": [
        "<a href=\"https://colab.research.google.com/github/kingr0009/Gcolab-python/blob/main/variables.ipynb\" target=\"_parent\"><img src=\"https://colab.research.google.com/assets/colab-badge.svg\" alt=\"Open In Colab\"/></a>"
      ]
    },
    {
      "cell_type": "code",
      "execution_count": 2,
      "metadata": {
        "colab": {
          "base_uri": "https://localhost:8080/"
        },
        "id": "3JyLxKIAJp4d",
        "outputId": "4bcd38fe-957a-4cd8-df14-26624d443b9f"
      },
      "outputs": [
        {
          "output_type": "stream",
          "name": "stdout",
          "text": [
            "10 python is fun True\n"
          ]
        }
      ],
      "source": [
        "#variable is a name you assign to a value or object\n",
        "x = 10\n",
        "y = 'python is fun'\n",
        "z = 144**0.5==12\n",
        "\n",
        "print(x,y,z)"
      ]
    },
    {
      "cell_type": "code",
      "source": [
        "x+z"
      ],
      "metadata": {
        "colab": {
          "base_uri": "https://localhost:8080/"
        },
        "id": "_TmFBrbiKHKh",
        "outputId": "072474df-003e-411f-8af8-7791e698659c"
      },
      "execution_count": 3,
      "outputs": [
        {
          "output_type": "execute_result",
          "data": {
            "text/plain": [
              "11"
            ]
          },
          "metadata": {},
          "execution_count": 3
        }
      ]
    },
    {
      "cell_type": "code",
      "source": [
        "#use of parenthetis\n",
        "x,y,z = (10,20,30)\n",
        "print(x,y,z)\n"
      ],
      "metadata": {
        "colab": {
          "base_uri": "https://localhost:8080/"
        },
        "id": "h7govBv3K2bJ",
        "outputId": "40d5d1ca-d256-4809-98f2-2eef7e442bd3"
      },
      "execution_count": 5,
      "outputs": [
        {
          "output_type": "stream",
          "name": "stdout",
          "text": [
            "10 20 30\n"
          ]
        }
      ]
    },
    {
      "cell_type": "code",
      "source": [
        "#swapping,   tuples\n",
        "\n",
        "(x,y) = (y,x)\n",
        "print(x,y)"
      ],
      "metadata": {
        "colab": {
          "base_uri": "https://localhost:8080/"
        },
        "id": "YSFrdYGXLDnf",
        "outputId": "d8e531fd-9373-4f21-92c4-3e65cf2f6f5b"
      },
      "execution_count": 6,
      "outputs": [
        {
          "output_type": "stream",
          "name": "stdout",
          "text": [
            "20 10\n"
          ]
        }
      ]
    },
    {
      "cell_type": "code",
      "source": [
        "#reference\n",
        "\n",
        "x = \"HellO\"\n",
        "y = x\n",
        "y = y.lower() #to turn lower case\n",
        "print(x,y)"
      ],
      "metadata": {
        "colab": {
          "base_uri": "https://localhost:8080/"
        },
        "id": "G4TOebvdLL1U",
        "outputId": "c49cfe5d-1de0-47db-9b41-8ffcc3d1c13b"
      },
      "execution_count": 11,
      "outputs": [
        {
          "output_type": "stream",
          "name": "stdout",
          "text": [
            "HellO hello\n"
          ]
        }
      ]
    },
    {
      "cell_type": "code",
      "source": [
        "x = [2,4,6] #lists\n",
        "y = x\n",
        "y.append(4) #to add a number at the end of a list\n",
        "print(x)\n",
        "print(y)"
      ],
      "metadata": {
        "colab": {
          "base_uri": "https://localhost:8080/"
        },
        "id": "AXt89vMILSMC",
        "outputId": "802eabe0-694d-4ff8-ec8a-047867756f69"
      },
      "execution_count": 13,
      "outputs": [
        {
          "output_type": "stream",
          "name": "stdout",
          "text": [
            "[2, 4, 6, 4]\n",
            "[2, 4, 6, 4]\n"
          ]
        }
      ]
    },
    {
      "cell_type": "code",
      "source": [],
      "metadata": {
        "id": "GYyX5VotL0db"
      },
      "execution_count": null,
      "outputs": []
    }
  ]
}