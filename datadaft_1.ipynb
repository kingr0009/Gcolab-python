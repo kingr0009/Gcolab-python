{
  "nbformat": 4,
  "nbformat_minor": 0,
  "metadata": {
    "colab": {
      "provenance": [],
      "authorship_tag": "ABX9TyPA/AqJeU+dLEoRwXx9Fh7g",
      "include_colab_link": true
    },
    "kernelspec": {
      "name": "python3",
      "display_name": "Python 3"
    },
    "language_info": {
      "name": "python"
    }
  },
  "cells": [
    {
      "cell_type": "markdown",
      "metadata": {
        "id": "view-in-github",
        "colab_type": "text"
      },
      "source": [
        "<a href=\"https://colab.research.google.com/github/kingr0009/Gcolab-python/blob/main/datadaft_1.ipynb\" target=\"_parent\"><img src=\"https://colab.research.google.com/assets/colab-badge.svg\" alt=\"Open In Colab\"/></a>"
      ]
    },
    {
      "cell_type": "code",
      "execution_count": null,
      "metadata": {
        "colab": {
          "base_uri": "https://localhost:8080/"
        },
        "id": "8GWI0VDg4LEX",
        "outputId": "451133ef-05ea-4900-e2ea-d5e3b9914bd7"
      },
      "outputs": [
        {
          "output_type": "execute_result",
          "data": {
            "text/plain": [
              "0"
            ]
          },
          "metadata": {},
          "execution_count": 1
        }
      ],
      "source": [
        "100%5 #gives remainder"
      ]
    },
    {
      "cell_type": "code",
      "source": [
        "#load math module\n",
        "import math"
      ],
      "metadata": {
        "id": "cU4mGART4oSj"
      },
      "execution_count": null,
      "outputs": []
    },
    {
      "cell_type": "code",
      "source": [
        "#math.log takes natural logarithm of its arguments\n",
        "math.log(2.7182)"
      ],
      "metadata": {
        "colab": {
          "base_uri": "https://localhost:8080/"
        },
        "id": "zmascl8m42IH",
        "outputId": "dc3ec742-d7ac-4a1b-cf8c-5796a1cea15f"
      },
      "execution_count": null,
      "outputs": [
        {
          "output_type": "execute_result",
          "data": {
            "text/plain": [
              "0.9999698965391098"
            ]
          },
          "metadata": {},
          "execution_count": 3
        }
      ]
    },
    {
      "cell_type": "code",
      "source": [
        "#add a secondary argument to specify the log base\n",
        "math.log(100,10) #takes the log base as 10 of 100"
      ],
      "metadata": {
        "colab": {
          "base_uri": "https://localhost:8080/"
        },
        "id": "QJMRnK-Y5i6t",
        "outputId": "dad27f16-87fa-41b2-e620-c2da9e424abc"
      },
      "execution_count": null,
      "outputs": [
        {
          "output_type": "execute_result",
          "data": {
            "text/plain": [
              "2.0"
            ]
          },
          "metadata": {},
          "execution_count": 4
        }
      ]
    },
    {
      "cell_type": "code",
      "source": [
        "#math.exp() raises e to the power  of its argument, basically inverse of log\n",
        "math.exp(100)"
      ],
      "metadata": {
        "colab": {
          "base_uri": "https://localhost:8080/"
        },
        "id": "ha1DRl7Q6Yno",
        "outputId": "13f2a481-5df1-4166-e2e1-5c3126b1916a"
      },
      "execution_count": null,
      "outputs": [
        {
          "output_type": "execute_result",
          "data": {
            "text/plain": [
              "2.6881171418161356e+43"
            ]
          },
          "metadata": {},
          "execution_count": 5
        }
      ]
    },
    {
      "cell_type": "code",
      "source": [
        "#use math.sqrt() to take the square root of a number\n",
        "math.sqrt(30)"
      ],
      "metadata": {
        "colab": {
          "base_uri": "https://localhost:8080/"
        },
        "id": "9n6GI9068zkN",
        "outputId": "8d132ef5-6942-4a95-f5e3-a864ab28e9b2"
      },
      "execution_count": null,
      "outputs": [
        {
          "output_type": "execute_result",
          "data": {
            "text/plain": [
              "5.477225575051661"
            ]
          },
          "metadata": {},
          "execution_count": 7
        }
      ]
    },
    {
      "cell_type": "code",
      "source": [
        "#use abs() to get the absolute value of a number.\n",
        "#abs() is a base python function\n",
        "\n",
        "a=abs(-20)\n",
        "b=abs(30)\n",
        "print(a,b)"
      ],
      "metadata": {
        "colab": {
          "base_uri": "https://localhost:8080/"
        },
        "id": "-4Nt4g-H9P5h",
        "outputId": "95859b7e-c686-4e47-ddb2-1f7e6b674cec"
      },
      "execution_count": null,
      "outputs": [
        {
          "output_type": "stream",
          "name": "stdout",
          "text": [
            "20 30\n"
          ]
        }
      ]
    },
    {
      "cell_type": "code",
      "source": [
        "#get constant pi\n",
        "math.pi"
      ],
      "metadata": {
        "colab": {
          "base_uri": "https://localhost:8080/"
        },
        "id": "DB9vsyjF-FYq",
        "outputId": "b3205d71-b517-492d-902d-855866f432bd"
      },
      "execution_count": null,
      "outputs": [
        {
          "output_type": "execute_result",
          "data": {
            "text/plain": [
              "3.141592653589793"
            ]
          },
          "metadata": {},
          "execution_count": 12
        }
      ]
    },
    {
      "cell_type": "code",
      "source": [
        "#use round() to round a number to the nearest whole number\n",
        "a=round(1.3)\n",
        "b=round(55.5)\n",
        "print(a,b)"
      ],
      "metadata": {
        "colab": {
          "base_uri": "https://localhost:8080/"
        },
        "id": "fVegqFpM-Vu5",
        "outputId": "797ff2a0-6ef2-4127-b6d9-85cd8cb330ba"
      },
      "execution_count": null,
      "outputs": [
        {
          "output_type": "stream",
          "name": "stdout",
          "text": [
            "1 56\n"
          ]
        }
      ]
    },
    {
      "cell_type": "code",
      "source": [
        "#to keep certian amount of decimals\n",
        "a=round(1.3234,2)\n",
        "b=round(55.523423,4)\n",
        "c=round(55.523423,1)\n",
        "print(a,b,c)"
      ],
      "metadata": {
        "colab": {
          "base_uri": "https://localhost:8080/"
        },
        "id": "wlZr7W32-hPM",
        "outputId": "bab67358-1aa8-4cfe-e2fd-01eee0cb8797"
      },
      "execution_count": null,
      "outputs": [
        {
          "output_type": "stream",
          "name": "stdout",
          "text": [
            "1.32 55.5234 55.5\n"
          ]
        }
      ]
    },
    {
      "cell_type": "code",
      "source": [
        "#rounds down the nearest whole number, lower limit\n",
        "math.floor(1.6)"
      ],
      "metadata": {
        "colab": {
          "base_uri": "https://localhost:8080/"
        },
        "id": "yxNX2cvN_IIm",
        "outputId": "66b17dc3-0280-4f5f-b529-be3d5dc0e9a6"
      },
      "execution_count": null,
      "outputs": [
        {
          "output_type": "execute_result",
          "data": {
            "text/plain": [
              "1"
            ]
          },
          "metadata": {},
          "execution_count": 21
        }
      ]
    },
    {
      "cell_type": "code",
      "source": [
        "#rounds down to the nearest whole number, max limit\n",
        "math.ceil(1.2)"
      ],
      "metadata": {
        "colab": {
          "base_uri": "https://localhost:8080/"
        },
        "id": "72xwZhmaAhw5",
        "outputId": "21f72752-44b8-4833-ed03-ec68544b3a50"
      },
      "execution_count": null,
      "outputs": [
        {
          "output_type": "execute_result",
          "data": {
            "text/plain": [
              "2"
            ]
          },
          "metadata": {},
          "execution_count": 22
        }
      ]
    },
    {
      "cell_type": "code",
      "source": [
        "60*60*24*365"
      ],
      "metadata": {
        "colab": {
          "base_uri": "https://localhost:8080/"
        },
        "id": "0fzlCvM8Aucs",
        "outputId": "cd95a289-17de-461e-b0e6-ecb77a06a682"
      },
      "execution_count": null,
      "outputs": [
        {
          "output_type": "execute_result",
          "data": {
            "text/plain": [
              "31536000"
            ]
          },
          "metadata": {},
          "execution_count": 23
        }
      ]
    },
    {
      "cell_type": "code",
      "source": [],
      "metadata": {
        "id": "e2qscHNMA5lv"
      },
      "execution_count": null,
      "outputs": []
    }
  ]
}